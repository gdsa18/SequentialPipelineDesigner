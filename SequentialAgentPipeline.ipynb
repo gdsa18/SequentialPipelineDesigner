!pip install groq crewai gradio

import os
import gradio as gr
from crewai import Agent, Task, Crew, LLM
import json
from typing import List, Dict, Any
import uuid

# Configure Groq API key
os.environ["GROQ_API_KEY"] = "PUT_YOUR_API_KEY_FROM_GROQ"

# Available models with their specifications
AVAILABLE_MODELS = {
    "deepseek-r1-distill-llama-70b": {"RPM": 30, "RPD": 1000, "TPM": 6000, "TPD": None, "ASH": None, "ASD": None},
    "llama-3.3-70b-versatile": {"RPM": 30, "RPD": 1000, "TPM": 6000, "TPD": 100000, "ASH": None, "ASD": None},
    "llama-3.3-70b-specdec": {"RPM": 30, "RPD": 1000, "TPM": 6000, "TPD": 100000, "ASH": None, "ASD": None},
    "llama-3.2-1b-preview": {"RPM": 30, "RPD": 7000, "TPM": 7000, "TPD": 500000, "ASH": None, "ASD": None},
    "llama-3.2-3b-preview": {"RPM": 30, "RPD": 7000, "TPM": 7000, "TPD": 500000, "ASH": None, "ASD": None},
    "llama-3.1-8b-instant": {"RPM": 30, "RPD": 14400, "TPM": 6000, "TPD": 500000, "ASH": None, "ASD": None},
    "llama3-70b-8192": {"RPM": 30, "RPD": 14400, "TPM": 6000, "TPD": 500000, "ASH": None, "ASD": None},
    "llama3-8b-8192": {"RPM": 30, "RPD": 14400, "TPM": 6000, "TPD": 500000, "ASH": None, "ASD": None},
    "llama-guard-3-8b": {"RPM": 30, "RPD": 14400, "TPM": 15000, "TPD": 500000, "ASH": None, "ASD": None},
    "mixtral-8x7b-32768": {"RPM": 30, "RPD": 14400, "TPM": 5000, "TPD": 500000, "ASH": None, "ASD": None},
    "gemma2-9b-it": {"RPM": 30, "RPD": 14400, "TPM": 15000, "TPD": 500000, "ASH": None, "ASD": None},
    "whisper-large-v3": {"RPM": 20, "RPD": 2000, "TPM": None, "TPD": None, "ASH": 7200, "ASD": 28800},
    "whisper-large-v3-turbo": {"RPM": 20, "RPD": 2000, "TPM": None, "TPD": None, "ASH": 7200, "ASD": 28800},
    "distil-whisper-large-v3-en": {"RPM": 20, "RPD": 2000, "TPM": None, "TPD": None, "ASH": 7200, "ASD": 28800},
    "llama-3.2-11b-vision-preview": {"RPM": 30, "RPD": 7000, "TPM": 7000, "TPD": 500000, "ASH": None, "ASD": None},
    "llama-3.2-90b-vision-preview": {"RPM": 15, "RPD": 3500, "TPM": 7000, "TPD": 250000, "ASH": None, "ASD": None},
}

class AgentNode:
    def __init__(self, id, model, instruction, temperature=0.7, max_tokens=1024):
        self.id = id
        self.model = model
        self.instruction = instruction
        self.temperature = temperature
        self.max_tokens = max_tokens
        self.next_id = None
        self.instruction_summary = instruction[:50] + "..." if len(instruction) > 50 else instruction # Create summary

    def to_dict(self):
        return {
            "id": self.id,
            "model": self.model,
            "instruction": self.instruction,
            "temperature": self.temperature,
            "max_tokens": self.max_tokens,
            "next_id": self.next_id,
            "instruction_summary": self.instruction_summary # Save summary
        }

    @classmethod
    def from_dict(cls, data):
        node = cls(
            id=data["id"],
            model=data["model"],
            instruction=data["instruction"],
            temperature=data["temperature"],
            max_tokens=data["max_tokens"]
        )
        node.next_id = data["next_id"]
        if "instruction_summary" in data: # Load summary if available (for backwards compatibility)
            node.instruction_summary = data["instruction_summary"]
        else:
            node.instruction_summary = node.instruction[:50] + "..." if len(node.instruction) > 50 else node.instruction # Create if missing
        return node

class AgentPipeline:
    def __init__(self):
        self.nodes: Dict[str, AgentNode] = {}
        self.head_id = None
        self.expected_output_description = ""

    def add_node(self, node: AgentNode):
        self.nodes[node.id] = node
        if not self.head_id:
            self.head_id = node.id
        return node.id

    def connect_nodes(self, from_id, to_id):
        if from_id in self.nodes and (to_id in self.nodes or to_id is None):
            self.nodes[from_id].next_id = to_id

    def get_ordered_nodes(self):
        ordered = []
        current_id = self.head_id
        while current_id and current_id in self.nodes:
            ordered.append(self.nodes[current_id])
            current_id = self.nodes[current_id].next_id
        return ordered

    def to_dict(self):
        return {
            "nodes": {node_id: node.to_dict() for node_id, node in self.nodes.items()},
            "head_id": self.head_id,
            "expected_output_description": self.expected_output_description
        }

    @classmethod
    def from_dict(cls, data):
        pipeline = cls()
        pipeline.head_id = data["head_id"]
        pipeline.expected_output_description = data["expected_output_description"]
        for node_id, node_data in data["nodes"].items():
            pipeline.nodes[node_id] = AgentNode.from_dict(node_data)
        return pipeline

    def generate_html_diagram(self):
        if not self.head_id:
            return "<div>No agents in pipeline</div>"

        nodes = self.get_ordered_nodes()
        num_nodes = len(nodes)

        max_diagram_width = 600 # Adjust as needed for wrapping
        svg_width = max_diagram_width
        svg_height = 250 # Base height
        node_width = 250
        node_height = 80
        node_margin_x = 50
        node_margin_y = 100 # Vertical margin between lines
        node_y = 50
        start_x = 50
        current_x = start_x + 30 # Start after the start circle
        last_node_x_right = start_x
        line_count = 0 # Track number of lines for height adjustment

        html = f'<svg width="100%" viewBox="0 0 {svg_width} {svg_height}" style="max-width: 100%; overflow: visible; font-family: sans-serif;">' # Viewbox and max-width for responsiveness
        html += """
            <defs>
                <marker id="arrow" viewBox="0 0 10 10" refX="5" refY="5"
                    markerWidth="6" markerHeight="6" orient="auto-start-reverse">
                    <path d="M 0 0 L 10 5 L 0 10 z" fill="black" />
                </marker>
            </defs>
        """

        # Start node
        html += f'<circle cx="{start_x}" cy="{node_y + node_height / 2}" r="10" fill="#ddd" stroke="black" stroke-width="1"/>'
        html += f'<text x="{start_x}" y="{node_y + node_height / 2 + 20}" text-anchor="middle" style="font-size: 12px;">Start</text>'


        for i, node in enumerate(nodes):
            node_x = current_x
            model_short = node.model.split('/')[-1] if '/' in node.model else node.model

            # Check if node will exceed diagram width, if so, move to next line
            if current_x + node_width + node_margin_x > max_diagram_width and i > 0: # i > 0 to avoid line break after start node
                line_count += 1
                current_x = start_x + 30 # Reset horizontal position
                node_y += node_margin_y # Move node down
                svg_height += node_margin_y # Increase SVG height


            node_x = current_x # Recalculate node_x in case of line break

            # Agent Node
            html += f'<rect x="{node_x}" y="{node_y}" width="{node_width}" height="{node_height}" style="fill:lightblue;stroke:black;stroke-width:1"/>'
            html += f'<text x="{node_x + node_width / 2}" y="{node_y + node_height / 4}" text-anchor="middle" dominant-baseline="middle" style="font-size: 14px; font-weight: bold;">Agent {i+1}</text>'
            html += f'<text x="{node_x + node_width / 2}" y="{node_y + node_height * 2/4}" text-anchor="middle" dominant-baseline="middle" style="font-size: 12px;">{model_short}</text>'
            html += f'<text x="{node_x + node_width / 2}" y="{node_y + node_height * 3/4}" text-anchor="middle" dominant-baseline="middle" style="font-size: 10px; overflow-wrap: break-word; word-break: break-word; white-space: normal; width: {node_width - 10}px;">{node.instruction_summary}</text>' # Instruction summary

            # Connection from previous node/start
            if i == 0:
                 x1 = start_x + 10 # right side of start circle
                 y1 = start_y = 50 + node_height / 2 # Initial start y position
            else:
                x1 = last_node_x_right
                y1 = prev_node_y # Keep y-position from previous node
            x2 = node_x
            y2 = node_y + node_height / 2 # Current node y position
            html += f'<line x1="{x1}" y1="{y1}" x2="{x2}" y2="{y2}" style="stroke:black;stroke-width:2;marker-end:url(#arrow)"/>'


            last_node_x_right = node_x + node_width
            current_x += node_width + node_margin_x
            prev_node_y = y2 # Store y position for next connection


        # Manager Node - position after last agent, considering potential line breaks
        manager_x = current_x
        manager_y = node_y # Align vertically with the last row of agents

        # If manager node would exceed width after agents, move to next line
        if manager_x + node_width + 30 > max_diagram_width and num_nodes > 0: # num_nodes > 0 check avoids line break if no agents
            line_count += 1
            manager_x = start_x + 30 # Reset horizontal position
            manager_y += node_margin_y
            svg_height += node_margin_y


        html += f'<rect x="{manager_x}" y="{manager_y}" width="{node_width}" height="{node_height}" style="fill:lightgreen;stroke:black;stroke-width:1"/>'
        html += f'<text x="{manager_x + node_width / 2}" y="{manager_y + node_height / 3}" text-anchor="middle" dominant-baseline="middle" style="font-size: 14px; font-weight: bold;">Manager Agent</text>'
        html += f'<text x="{manager_x + node_width / 2}" y="{manager_y + 2 * node_height / 3}" text-anchor="middle" dominant-baseline="middle" style="font-size: 12px;">Verification</text>'

        # Connection to Manager
        x1 = last_node_x_right if nodes else start_x + 10 # Connect from last agent or start node if no agents
        y1 = prev_node_y if nodes else start_y # Connect from last agent y or start y
        x2 = manager_x
        y2 = manager_y + node_height / 2
        html += f'<line x1="{x1}" y1="{y1}" x2="{x2}" y2="{y2}" style="stroke:black;stroke-width:2;marker-end:url(#arrow)"/>'


        # End Node - position after manager, considering line breaks
        end_x = manager_x + node_width + 30
        end_y = manager_y

        html += f'<circle cx="{end_x}" cy="{end_y + node_height / 2}" r="10" fill="#ddd" stroke="black" stroke-width="1"/>'
        html += f'<text x="{end_x}" y="{end_y + node_height / 2 + 20 }" text-anchor="middle" style="font-size: 12px;">End</text>'

        # Connection from Manager to End
        x1 = manager_x + node_width
        y1 = manager_y + node_height / 2
        x2 = end_x - 10 # left side of end circle
        y2 = end_y + node_height / 2
        html += f'<line x1="{x1}" y1="{y1}" x2="{x2}" y2="{y2}" style="stroke:black;stroke-width:2;marker-end:url(#arrow)"/>'


        html += f'</svg>'
        return html


def create_agent_node(model, instruction, temperature, max_tokens):
    node_id = str(uuid.uuid4())[:8]  # Use part of UUID for shorter IDs
    return AgentNode(
        id=node_id,
        model=model,
        instruction=instruction,
        temperature=float(temperature),
        max_tokens=int(max_tokens)
    )

def update_pipeline_diagram(pipeline_json):
    try:
        pipeline = AgentPipeline.from_dict(json.loads(pipeline_json))
        html_diagram = pipeline.generate_html_diagram()
        return html_diagram, pipeline_json
    except Exception as e:
        return f"Error generating diagram: {str(e)}", pipeline_json

def add_agent_to_pipeline(pipeline_json, model, instruction, temperature, max_tokens, connect_to_last=True):
    try:
        pipeline = AgentPipeline.from_dict(json.loads(pipeline_json)) if pipeline_json else AgentPipeline()

        new_node = create_agent_node(
            model=f"groq/{model}",
            instruction=instruction,
            temperature=temperature,
            max_tokens=max_tokens
        )

        new_id = pipeline.add_node(new_node)

        if connect_to_last and len(pipeline.nodes) > 1:
            # Find the current last node (no next_id)
            last_node_id = None
            for node_id, node in pipeline.nodes.items():
                if node.next_id is None and node_id != new_id:
                    last_node_id = node_id
                    break

            if last_node_id:
                pipeline.connect_nodes(last_node_id, new_id)

        html_diagram = pipeline.generate_html_diagram()
        return html_diagram, json.dumps(pipeline.to_dict())
    except Exception as e:
        return f"Error adding agent: {str(e)}", pipeline_json

def set_expected_output(pipeline_json, expected_output):
    try:
        pipeline = AgentPipeline.from_dict(json.loads(pipeline_json)) if pipeline_json else AgentPipeline()
        pipeline.expected_output_description = expected_output
        return json.dumps(pipeline.to_dict())
    except Exception as e:
        return pipeline_json

def edit_agent(pipeline_json, agent_id, model, instruction, temperature, max_tokens):
    try:
        pipeline = AgentPipeline.from_dict(json.loads(pipeline_json))
        if agent_id in pipeline.nodes:
            node = pipeline.nodes[agent_id]
            node.model = f"groq/{model}"
            node.instruction = instruction
            node.temperature = float(temperature)
            node.max_tokens = int(max_tokens)
            node.instruction_summary = instruction[:50] + "..." if len(instruction) > 50 else instruction # Update summary

        html_diagram = pipeline.generate_html_diagram()
        return html_diagram, json.dumps(pipeline.to_dict())
    except Exception as e:
        return f"Error editing agent: {str(e)}", pipeline_json

def delete_agent(pipeline_json, agent_id):
    try:
        pipeline = AgentPipeline.from_dict(json.loads(pipeline_json))

        # Find the node that points to this one
        prev_node_id = None
        for node_id, node in pipeline.nodes.items():
            if node.next_id == agent_id:
                prev_node_id = node_id
                break

        # Update the link
        if prev_node_id:
            pipeline.nodes[prev_node_id].next_id = pipeline.nodes[agent_id].next_id
        elif pipeline.head_id == agent_id:
            pipeline.head_id = pipeline.nodes[agent_id].next_id

        # Remove the node
        if agent_id in pipeline.nodes:
            del pipeline.nodes[agent_id]

        html_diagram = pipeline.generate_html_diagram()
        return html_diagram, json.dumps(pipeline.to_dict())
    except Exception as e:
        return f"Error deleting agent: {str(e)}", pipeline_json

def reorder_agents(pipeline_json, agent_ids_order):
    try:
        pipeline = AgentPipeline.from_dict(json.loads(pipeline_json))

        # Check if all ids are valid
        for agent_id in agent_ids_order:
            if agent_id not in pipeline.nodes:
                return f"Invalid agent ID: {agent_id}", pipeline_json

        # Update the links
        for i in range(len(agent_ids_order) - 1):
            pipeline.nodes[agent_ids_order[i]].next_id = agent_ids_order[i+1]

        # Last one points to nothing
        if agent_ids_order:
            pipeline.nodes[agent_ids_order[-1]].next_id = None
            pipeline.head_id = agent_ids_order[0]

        html_diagram = pipeline.generate_html_diagram()
        return html_diagram, json.dumps(pipeline.to_dict())
    except Exception as e:
        return f"Error reordering agents: {str(e)}", pipeline_json

def generate_task_instruction(current_node, prev_output=None):
    instruction = current_node.instruction

    if prev_output:
        # Convert prev_output to string if it's not already
        prev_output_str = str(prev_output)

        # Add the previous output as context
        instruction = f"""
        Previous agent output:
        '''
        {prev_output_str}
        '''

        Your task:
        {instruction}
        """

    return instruction

def run_pipeline(pipeline_json, input_text, manager_model, manager_temp, manager_max_tokens):
    try:
        # Initialize output collection
        all_outputs = []

        all_outputs.append("<details>")
        all_outputs.append("<summary><b>Original Input</b></summary><br>")
        all_outputs.append(f"{input_text}<br>")
        all_outputs.append("</details>")
        all_outputs.append("<br><hr><br>")


        pipeline = AgentPipeline.from_dict(json.loads(pipeline_json))
        ordered_nodes = pipeline.get_ordered_nodes()

        if not ordered_nodes:
            all_outputs.append("❌ Error: No agents defined in the pipeline")
            return "<br>".join(all_outputs) # Use <br> for line breaks in HTML output

        all_outputs.append(f"Pipeline has {len(ordered_nodes)} agents in sequence<br><br><hr><br>")

        # Agent instructions for Manager context
        agent_instructions_context = []
        for i, node in enumerate(ordered_nodes):
            agent_instructions_context.append(f"Agent {i+1} Instruction: {node.instruction_summary}")
        agent_instructions_str = "\n".join(agent_instructions_context)


        # Create the CrewAI agents and tasks
        agents = []
        tasks = []
        last_task = None
        current_output = input_text

        agent_outputs_for_manager = {} # Store each agent's output for manager context

        for i, node in enumerate(ordered_nodes):
            agent_id = node.id # Keep track of agent ID
            all_outputs.append("<details>")
            all_outputs.append(f"<summary><b>Agent {i+1}: {node.id}</b></summary><br>")
            all_outputs.append(f"<b>Model</b>: {node.model}<br>")
            all_outputs.append(f"<b>Instruction</b>: {node.instruction}<br><br>")

            # Create agent
            llm = LLM(
                model=node.model,
                temperature=node.temperature,
                max_completion_tokens=node.max_tokens
            )

            agent = Agent(
                role=f"Agent {i+1} ({node.id})",
                goal=f"Process the input according to instructions",
                backstory=f"Specialized processor in the pipeline",
                llm=llm
            )
            agents.append(agent)

            # Task instruction
            task_instruction = generate_task_instruction(node, current_output if i > 0 else input_text)

            task = Task(
                description=task_instruction,
                expected_output="Text processed according to instructions",
                agent=agent,
                dependencies=[last_task] if last_task else []
            )
            tasks.append(task)
            last_task = task

            # Execute agent
            mini_crew = Crew(agents=[agent], tasks=[task])
            output_result = mini_crew.kickoff()
            current_output = str(output_result)

            agent_outputs_for_manager[agent_id] = current_output # Store output for manager context

            # Agent output
            all_outputs.append(f"<b>Output</b>:<br><pre style='white-space: pre-wrap; word-break: break-word;'>{current_output}</pre><br>") # Use <pre> for formatted output
            all_outputs.append("</details>")
            all_outputs.append("<br><hr><br>")

        # Format agent outputs for manager prompt
        agent_outputs_formatted = "\n".join([f'Agent {i+1} ({agent_id}) Output:\n---\n{output}\n---' for i, (agent_id, output) in enumerate(agent_outputs_for_manager.items())])


        # Manager Evaluation Section
        all_outputs.append("<details>")
        all_outputs.append("<summary><b>Manager Evaluation</b></summary><br>")

        llm_manager = LLM(
            model=f"groq/{manager_model}",
            temperature=manager_temp,
            max_completion_tokens=manager_max_tokens
        )

        manager_agent = Agent(
            role="Manager Agent",
            goal="Verify the pipeline output and agent roles",
            backstory="A verification specialist that ensures quality and role fulfillment",
            llm=llm_manager
        )

        expected_output_desc = pipeline.expected_output_description or "High quality processed text"

        manager_task = Task(
            description=f"""
            Pipeline Description: You have orchestrated a pipeline of agents to process user input.
            Your task is to evaluate the entire pipeline run and verify the quality and role fulfillment of each agent.

            Agent Pipeline Instructions Summary:
            {agent_instructions_str}

            Agent Outputs:
            {agent_outputs_formatted}


            Final Output from the pipeline:
            '''
            {current_output}
            '''

            Expected output characteristics:
            {expected_output_desc}

            Verification Tasks:
            1. For each agent in the pipeline, evaluate if the agent successfully fulfilled its defined instruction. Detail your reasoning for each agent.
            2. Assess if the final output as a whole meets the expected output characteristics provided by the user.
            3. Provide an overall quality score for the final output from 1-10.
            4. Identify specific areas where the pipeline's output or individual agent performance could be improved.
            5. Summarize the transformation of the input through the entire pipeline, highlighting the contribution of each agent.

            Format your response with clear sections for each of these points, detailing your evaluation for EACH agent's role fulfillment before moving to overall quality and improvements.
            """,
            expected_output="A detailed verification report, evaluating each agent and the final output.",
            agent=manager_agent
        )

        manager_crew = Crew(agents=[manager_agent], tasks=[manager_task])
        verification_result_obj = manager_crew.kickoff()
        verification_result = str(verification_result_obj)

        all_outputs.append(f"<b>Verification Report:</b><br><pre style='white-space: pre-wrap; word-break: break-word;'>{verification_result}</pre><br>") # Manager Verification
        all_outputs.append("</details>")
        all_outputs.append("<br><hr><br>")


        # Final Results Section
        all_outputs.append("<details>")
        all_outputs.append("<summary><b>Final Results</b></summary><br>")
        all_outputs.append("<b>Final Output:</b><br>")
        all_outputs.append(f"<pre style='white-space: pre-wrap; word-break: break-word;'>{current_output}</pre><br>") # Final Output - duplicate for clarity
        all_outputs.append("</details>")


        return "<br>".join(all_outputs) # Join with <br> for HTML output


    except Exception as e:
        return f"❌ Error executing pipeline: {str(e)}"

def get_current_agents(pipeline_json):
    try:
        if not pipeline_json:
            return []

        pipeline = AgentPipeline.from_dict(json.loads(pipeline_json))
        agents = []

        for node_id, node in pipeline.nodes.items():
            # Extract model name without prefix
            model_name = node.model.split('/')[-1] if '/' in node.model else node.model
            agents.append({
                "id": node_id,
                "model": model_name,
                "instruction": node.instruction[:50] + "..." if len(node.instruction) > 50 else node.instruction
            })

        return agents
    except Exception:
        return []

def update_agent_selector(pipeline_json):
    agents = get_current_agents(pipeline_json)
    return gr.Dropdown(
        choices=[f"{a['id']} - {a['model']} - {a['instruction']}" for a in agents],
        value=None,
        label="Select Agent to Edit/Delete"
    )

def update_reorder_list(pipeline_json):
    agents = get_current_agents(pipeline_json)
    return gr.CheckboxGroup(
        choices=[f"{a['id']} - {a['model']}" for a in agents],
        value=[f"{a['id']} - {a['model']}" for a in agents],
        label="Drag to Reorder Agents"
    )

def extract_agent_id(agent_selector_value):
    if not agent_selector_value:
        return None
    return agent_selector_value.split(" - ")[0]

def load_agent_for_editing(pipeline_json, agent_selector_value):
    try:
        agent_id = extract_agent_id(agent_selector_value)
        if not agent_id:
            return "", "", 0.7, 1024

        pipeline = AgentPipeline.from_dict(json.loads(pipeline_json))
        if agent_id in pipeline.nodes:
            node = pipeline.nodes[agent_id]
            # Strip off the "groq/" prefix if present
            model = node.model.replace("groq/", "")
            return model, node.instruction, node.temperature, node.max_tokens

        return "", "", 0.7, 1024
    except Exception:
        return "", "", 0.7, 1024

def extract_agent_ids_order(reorder_list):
    agent_ids = []
    for item in reorder_list:
        agent_id = item.split(" - ")[0]
        agent_ids.append(agent_id)
    return agent_ids

with gr.Blocks(title="Sequential Agent Pipeline Designer") as app:
    pipeline_state = gr.State(json.dumps(AgentPipeline().to_dict()))

    gr.Markdown("# Sequential Agent Pipeline Designer")
    gr.Markdown("""
    Create a sequential workflow where each agent processes the output of the previous one.
    Design your pipeline using the diagram interface below.
    """)

    with gr.Row():
        with gr.Column(scale=3):
            diagram = gr.components.HTML("<div>No agents in pipeline</div>") # Changed to HTML component

        with gr.Column(scale=2):
            with gr.Accordion("Input and Expected Output", open=True):
                input_text = gr.Textbox(
                    label="Input Text for Pipeline",
                    lines=3,
                    placeholder="Enter the text to process through the pipeline..."
                )

                expected_output = gr.Textbox(
                    label="Expected Output Description",
                    lines=2,
                    placeholder="Describe what the final output should look like..."
                )

                set_expected_btn = gr.Button("Set Expected Output")

    with gr.Tabs() as tabs:
        with gr.TabItem("Add Agent"):
            with gr.Row():
                with gr.Column():
                    add_model = gr.Dropdown(
                        choices=list(AVAILABLE_MODELS.keys()),
                        label="Agent Model",
                        value="llama-3.1-8b-instant"
                    )

                    add_instruction = gr.Textbox(
                        label="Agent Instruction",
                        lines=3,
                        placeholder="What should this agent do with its input?"
                    )

                with gr.Column():
                    add_temperature = gr.Slider(
                        minimum=0.0, maximum=1.0, value=0.7, step=0.1,
                        label="Temperature"
                    )

                    add_max_tokens = gr.Slider(
                        minimum=100, maximum=4000, value=1024, step=100,
                        label="Max Tokens"
                    )

            add_agent_btn = gr.Button("Add Agent to Pipeline")

        with gr.TabItem("Edit Agent"):
            agent_selector = gr.Dropdown(
                choices=[],
                label="Select Agent to Edit/Delete"
            )

            with gr.Row():
                with gr.Column():
                    edit_model = gr.Dropdown(
                        choices=list(AVAILABLE_MODELS.keys()),
                        label="Agent Model"
                    )

                    edit_instruction = gr.Textbox(
                        label="Agent Instruction",
                        lines=3
                    )

                with gr.Column():
                    edit_temperature = gr.Slider(
                        minimum=0.0, maximum=1.0, value=0.7, step=0.1,
                        label="Temperature"
                    )

                    edit_max_tokens = gr.Slider(
                        minimum=100, maximum=4000, value=1024, step=100,
                        label="Max Tokens"
                    )

            with gr.Row():
                update_agent_btn = gr.Button("Update Agent")
                delete_agent_btn = gr.Button("Delete Agent")

        with gr.TabItem("Reorder Pipeline"):
            reorder_list = gr.CheckboxGroup(
                choices=[],
                label="Drag to Reorder Agents"
            )

            reorder_btn = gr.Button("Apply New Order")

        with gr.TabItem("Run Pipeline"):
            with gr.Row():
                with gr.Column():
                    manager_model = gr.Dropdown(
                        choices=list(AVAILABLE_MODELS.keys()),
                        label="Manager Model",
                        value="llama3-70b-8192"
                    )

                with gr.Column():
                    manager_temp = gr.Slider(
                        minimum=0.0, maximum=1.0, value=0.3, step=0.1,
                        label="Manager Temperature"
                    )

                    manager_max_tokens = gr.Slider(
                        minimum=500, maximum=5000, value=2048, step=100,
                        label="Manager Max Tokens"
                    )

            run_btn = gr.Button("Run Pipeline")

            # Replace Markdown with HTML Textbox for formatted outputs
            output = gr.HTML(
                label="Pipeline Execution Results" # Removed placeholder - HTML component doesn't support it
            )

    # Add agent button
    add_agent_btn.click(
        add_agent_to_pipeline,
        inputs=[pipeline_state, add_model, add_instruction, add_temperature, add_max_tokens],
        outputs=[diagram, pipeline_state]
    ).then(
        update_agent_selector,
        inputs=[pipeline_state],
        outputs=[agent_selector]
    ).then(
        update_reorder_list,
        inputs=[pipeline_state],
        outputs=[reorder_list]
    )

    # Load agent for editing
    agent_selector.change(
        load_agent_for_editing,
        inputs=[pipeline_state, agent_selector],
        outputs=[edit_model, edit_instruction, edit_temperature, edit_max_tokens]
    )

    # Edit agent button
    update_agent_btn.click(
        lambda pipeline, selector, model, instruction, temp, tokens: edit_agent(
            pipeline, extract_agent_id(selector), model, instruction, temp, tokens
        ),
        inputs=[pipeline_state, agent_selector, edit_model, edit_instruction, edit_temperature, edit_max_tokens],
        outputs=[diagram, pipeline_state]
    ).then(
        update_agent_selector,
        inputs=[pipeline_state],
        outputs=[agent_selector]
    ).then(
        update_reorder_list,
        inputs=[pipeline_state],
        outputs=[reorder_list]
    )

    # Delete agent button
    delete_agent_btn.click(
        lambda pipeline, selector: delete_agent(pipeline, extract_agent_id(selector)),
        inputs=[pipeline_state, agent_selector],
        outputs=[diagram, pipeline_state]
    ).then(
        update_agent_selector,
        inputs=[pipeline_state],
        outputs=[agent_selector]
    ).then(
        update_reorder_list,
        inputs=[pipeline_state],
        outputs=[reorder_list]
    )

    # Reorder agents button
    reorder_btn.click(
        lambda pipeline, reorder: reorder_agents(pipeline, extract_agent_ids_order(reorder)),
        inputs=[pipeline_state, reorder_list],
        outputs=[diagram, pipeline_state]
    ).then(
        update_reorder_list,
        inputs=[pipeline_state],
        outputs=[reorder_list]
    )

    # Set expected output button
    set_expected_btn.click(
        set_expected_output,
        inputs=[pipeline_state, expected_output],
        outputs=[pipeline_state]
    )

    # Run pipeline button
    run_btn.click(
        run_pipeline,
        inputs=[pipeline_state, input_text, manager_model, manager_temp, manager_max_tokens],
        outputs=[output]
    )

    # Update diagram
    pipeline_state.change(
        update_pipeline_diagram,
        inputs=[pipeline_state],
        outputs=[diagram, pipeline_state]
    )

app.launch(share=True)
